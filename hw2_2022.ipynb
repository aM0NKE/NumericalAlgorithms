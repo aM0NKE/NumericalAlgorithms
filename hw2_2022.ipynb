{
 "cells": [
  {
   "cell_type": "markdown",
   "id": "2eb3dc99-7e74-4a77-a6a6-0978b398c7b0",
   "metadata": {
    "nbgrader": {
     "grade": false,
     "grade_id": "cell-06d3e5bf55c941ae",
     "locked": true,
     "schema_version": 3,
     "solution": false,
     "task": false
    }
   },
   "source": [
    "# Homework set 2"
   ]
  },
  {
   "cell_type": "markdown",
   "id": "07b46464-4b8c-48f6-b6bb-5c85792c5081",
   "metadata": {
    "nbgrader": {
     "grade": false,
     "grade_id": "cell-736ff6bc3e0d0696",
     "locked": true,
     "schema_version": 3,
     "solution": false,
     "task": false
    }
   },
   "source": [
    "Please **submit this Jupyter notebook through Canvas** no later than **Mon Nov. 14, 9:00**. **Submit the notebook file with your answers (as .ipynb file) and a pdf printout. The pdf version can be used by the teachers to provide feedback. A pdf version can be made using the save and export option in the Jupyter Lab file menu.**\n",
    "\n",
    "Homework is in **groups of two**, and you are expected to hand in original work. Work that is copied from another group will not be accepted."
   ]
  },
  {
   "cell_type": "markdown",
   "id": "1b87202b-2fd1-4ec7-a28c-9f983e32b623",
   "metadata": {
    "nbgrader": {
     "grade": false,
     "grade_id": "cell-b13bc5ed16bce8e0",
     "locked": true,
     "schema_version": 3,
     "solution": false,
     "task": false
    }
   },
   "source": [
    "# Exercise 0\n",
    "Write down the names + student ID of the people in your group."
   ]
  },
  {
   "cell_type": "markdown",
   "id": "5ddfd8b6-4006-4149-827d-fd3ef7457239",
   "metadata": {},
   "source": [
    "Christos Perchanidis    (14601206)\n",
    "\n",
    "River Vaudrin           (11877154)"
   ]
  },
  {
   "cell_type": "markdown",
   "id": "cea87535-efbc-4a7c-8ff1-dfda608dd0d6",
   "metadata": {
    "nbgrader": {
     "grade": false,
     "grade_id": "cell-b5a7855ecca9f6be",
     "locked": true,
     "schema_version": 3,
     "solution": false,
     "task": false
    }
   },
   "source": [
    "Run the following cell to import some packages, add additional packages yourself when needed."
   ]
  },
  {
   "cell_type": "code",
   "execution_count": 8,
   "id": "563ef9dc-79ef-4b36-a8b5-d64f7a922ba0",
   "metadata": {},
   "outputs": [],
   "source": [
    "import numpy as np\n",
    "import matplotlib.pyplot as plt\n",
    "from numpy.linalg import cond, norm, inv\n",
    "from scipy.linalg import lu, lu_factor, lu_solve "
   ]
  },
  {
   "cell_type": "markdown",
   "id": "26a26b9c-d8db-4bdb-a11d-63bddfd889d8",
   "metadata": {},
   "source": [
    "# Exercise 1"
   ]
  },
  {
   "cell_type": "markdown",
   "id": "b74868be-8e8d-4ecc-aae3-b56fcaee7994",
   "metadata": {},
   "source": [
    "## (a) 1 point\n",
    "Let $A$ be the matrix $\\begin{bmatrix} 1 & -1 & \\alpha \\\\ 2 & 2 & 1 \\\\ 0 & \\alpha & -3/2 \\end{bmatrix}$. For which values of $\\alpha$ is $A$ singular?"
   ]
  },
  {
   "cell_type": "markdown",
   "id": "2ec1b49a-bc37-459e-8a51-c384445208f0",
   "metadata": {},
   "source": [
    "**Answer:**\n",
    "\n",
    "$A$ is singular if $det(A) = 0$.\n",
    "$$det(A) = 1*(2*-\\frac{3}{2} - 1*\\alpha) - -1(2*-\\frac{3}{2} - 1*0) + \\alpha(2*\\alpha - 2*0) = 0$$\n",
    "$$det(A) = - 3 - \\alpha - 3 + 2\\alpha^2 = 0$$\n",
    "$$det(A) = 2\\alpha^2-\\alpha-6=0$$\n",
    "Now we can solve the quadratic equation to find values for $\\alpha$:\n",
    "$$\\alpha=\\frac{1\\pm\\sqrt{1-4*2*-6}}{2*2}=\\frac{1\\pm\\sqrt{49}}{4}=\\frac{1\\pm7}{4}$$ \n",
    "Therefore, we have two solutions for the given quadratic equation:\n",
    "$$\\alpha=\\frac{1+7}{4}=\\frac{8}{4}=2$$\n",
    "$$\\alpha=\\frac{1-7}{4}=\\frac{-6}{4}=-1.5$$\n",
    "Thus, for $\\alpha=2$ and $\\alpha=-1.5$, $A$ is a singular matrix, as its determinant is 0."
   ]
  },
  {
   "cell_type": "markdown",
   "id": "dc9baa5c-c98f-401c-bb2d-2f1a8e55077c",
   "metadata": {},
   "source": [
    "## (b) 1 point\n",
    "For the largest value of $\\alpha$ you found above, find a nonzero vector $b$ such that $Ax = b$ has infinitely many solutions. Explain your answer."
   ]
  },
  {
   "cell_type": "markdown",
   "id": "bfd3120b-8a20-4659-bb2f-bfe6246c66f1",
   "metadata": {},
   "source": [
    "**Answer:**\n",
    "\n",
    "As implied by the fact that the matrix $A$ is singular, it can either have infinitely many solutions or none, this depends on the rank of the paired vector $b$. The augmented matrix must have the same rank as the original matrix $A$, thus we have:\n",
    "$$A=\\begin{bmatrix} 1 & -1 & 2 \\\\ 2 & 2 & 1 \\\\ 0 & 2 & -3/2 \\end{bmatrix}$$\n",
    "*Note: the highest value for $\\alpha$ was 2*\n",
    "\n",
    "To find the rank of $A$ we have to find its reduced form:\n",
    "$$A=\\begin{bmatrix} 1 & -1 & 2 \\\\ 2 & 2 & 1 \\\\ 0 & 2 & -3/2 \\end{bmatrix}=\n",
    "\\begin{bmatrix} 1 & -1 & 2 \\\\ 0 & 4 & -3 \\\\ 0 & 2 & -3/2 \\end{bmatrix}=\n",
    "\\begin{bmatrix} 1 & -1 & 2 \\\\ 0 & 4 & -3 \\\\ 0 & 0 & 0 \\end{bmatrix}$$\n",
    "Thus $rank(A) = 2$, and any vector $b$, which produces augmented matrix of the same rank will generate infinitely many solutions, for example if $b = \\begin{bmatrix} 1 & -1 & 0 \\end{bmatrix}$\n",
    "\n",
    "Will write it nicely later, needs probably the why part from theory :D"
   ]
  },
  {
   "cell_type": "markdown",
   "id": "dfdbdbe1-cc0c-438e-bfb6-30f1e855726e",
   "metadata": {},
   "source": [
    "# Exercise 2"
   ]
  },
  {
   "cell_type": "markdown",
   "id": "0cff19ca-5a93-4219-913b-d6a4b21e240d",
   "metadata": {},
   "source": [
    "For solving linear systems such as $Ax = b$, it is unnecessary (and often unstable) to compute the inverse $A^{-1}$. Nonetheless, there can be situations where it is useful to compute $A^{-1}$ explicitly. One way to do so is by using the LU-decomposition of $A$."
   ]
  },
  {
   "cell_type": "markdown",
   "id": "1dcdc8b0-162d-4fb7-808d-0100dce86d90",
   "metadata": {},
   "source": [
    "## (a) 2 points\n",
    "Write an algorithm to compute $A^{-1}$ for a non-singular matrix $A$ using its LU-decomposition. You can use `scipy.linalg.lu` (which returns an LU-decomposition with _partial pivoting_, i.e., with a permutation matrix $P$) and the other `scipy.linalg.lu_*` functions, but not `scipy.linalg.inv` (or other methods for computing matrix inverses directly).\n",
    "\n",
    "(Make sure to import the necessary functions/packages.)"
   ]
  },
  {
   "cell_type": "code",
   "execution_count": 9,
   "id": "8b355f0f-a648-48f4-9f6f-5d27fd10ca2b",
   "metadata": {
    "nbgrader": {
     "cell_type": "code",
     "checksum": "b011ebd554ea10da4a53655bdadd6383",
     "grade": true,
     "grade_id": "cell-6f892d33e776e31f",
     "locked": false,
     "points": 2,
     "schema_version": 3,
     "solution": true,
     "task": false
    }
   },
   "outputs": [
    {
     "name": "stdout",
     "output_type": "stream",
     "text": [
      "A:\n",
      " [[3 0 3]\n",
      " [2 2 3]\n",
      " [3 1 3]]\n",
      "\n",
      "numpy.linalg A^-1:\n",
      "[[-1.    -1.     2.   ]\n",
      " [-1.     0.     1.   ]\n",
      " [ 1.333  1.    -2.   ]]\n",
      "\n",
      "LU-decomposition A^-1:\n",
      "[[-1.    -1.     2.   ]\n",
      " [-1.     0.     1.   ]\n",
      " [ 1.333  1.    -2.   ]]\n"
     ]
    }
   ],
   "source": [
    "def _invert(A):\n",
    "    n = len(A)\n",
    "    I = np.identity(n)\n",
    "    \n",
    "    # itterate over all rows\n",
    "    for row1 in range(n):\n",
    "        # find diagonal fraction\n",
    "        d_frac = 1.0 / A[row1][row1]\n",
    "\n",
    "        # multiply current row by its diagonal fraction for A and I\n",
    "        for j in range(n):\n",
    "            A[row1][j] *= d_frac\n",
    "            I[row1][j] *= d_frac\n",
    "       \n",
    "        # find diagonal of current row\n",
    "        operation_rows = [row if row != row1 else None for row in range(n)]\n",
    "        for row2 in operation_rows:\n",
    "            if row2 == None: continue # skip diagonal current row\n",
    "            \n",
    "            # find all vals that aren't the diagonal of current row \n",
    "            sub_val = A[row2][row1]\n",
    "            \n",
    "            # mulitply this value with its correspoonding value from the current row \n",
    "            # and subtract it from this value. For both A and I\n",
    "            for col in range(n):\n",
    "                A[row2][col] = A[row2][col] - sub_val * A[row1][col]\n",
    "                I[row2][col] = I[row2][col] - sub_val * I[row1][col]\n",
    "\n",
    "    # return I because it has become the inv(A)\n",
    "    return I\n",
    "\n",
    "def invert(A):\n",
    "    # LU decomposition with pL calculated\n",
    "    L,U = lu(A, permute_l=True)\n",
    "\n",
    "    # find inverse of U and L\n",
    "    U_inv = _invert(U)\n",
    "    L_inv = _invert(L)\n",
    "\n",
    "    # multiply these inverses to obtain inverse of A\n",
    "    A_inv = np.dot(U_inv,L_inv)\n",
    "\n",
    "    return A_inv\n",
    "\n",
    "A = np.random.randint(0,4,(3,3))\n",
    "print(\"A:\\n {}\\n\".format(A))\n",
    "print(\"numpy.linalg A^-1:\\n{}\".format(inv(A).round(3)))\n",
    "print(\"\\nLU-decomposition A^-1:\\n{}\".format(invert(A).round(3)))"
   ]
  },
  {
   "cell_type": "markdown",
   "id": "e0710df6-58f3-42f9-b467-10eb45c38b5e",
   "metadata": {},
   "source": [
    "## (b) 1 point\n",
    "What is the computational complexity of your algorithm, given that the input matrix has size $n \\times n$?\n",
    "Give a short calculation/explanation for your answer."
   ]
  },
  {
   "cell_type": "markdown",
   "id": "f127ab7c-e03f-4bcd-9ba7-56acb94518de",
   "metadata": {
    "nbgrader": {
     "cell_type": "markdown",
     "checksum": "2dd9d0b893218b8e70d7a0a66f09e514",
     "grade": true,
     "grade_id": "cell-a15cf95231b8aa77",
     "locked": false,
     "points": 1,
     "schema_version": 3,
     "solution": true,
     "task": false
    }
   },
   "source": [
    "**Answer:**\n",
    "\n",
    "First of all we should start by describing what operations have been done. To find $A^{-1}$ we have to find $(LU)^{-1}$ or $U^{-1}L^{-1}$. We will not analyze complexity of finding a $LU$ decomposition, as it was not the main point of the excercise, but we know that it is $(1/3)*n^3$ floating point multiplication and same amount of addition. Thus, we have $2*2*(1/3)*n^3$ of operations plus a multiplication of permutation matrix with the lower form matrix which is $n^3$ (Assuming naive algorithm is used), which sums up to $7/3*n^3$.\n",
    "\n",
    "To find $L$ and $U$ inverses we do multiple operations per each row. First, we find diagonal fraction which is one division, afterwards we multiply matrix's row and identity matrix's row by the earlier found fraction, this operation is of complexity $n$ for each matrix. Thus, so far we have $1+2*n$ operations, as division and multiplication have same complexity. Afterwards for each row, except current one, we eliminate value in the rows of the same column by subtracting a multiple of a value in an upper diagonal cell. This creates a loop of $n-1$ which iterates over 2 matrices for $n-1$ column with 1 subtraction and 1 multiplication operations. Thus, making $(n-1)*(n-1)*(2*(1+1))$ operations or $(n^2-2n+1)*4 = 4*n^2-8n+4$. Overall finding inverse of $L$ or $U$ sums up to $1+2*n + 4n^2 -8n + 4$ operations, or $4n^2 - 6n +5$ operations for each, overall $2*(4n^2 - 6n +5)$.\n",
    "\n",
    "Finally, we multiply obtained inverse $L$ and $U$ with complexity of $n^3$ (Assuming again we are using the naive algorithm). Finally summing all the performed actions we have (sum all above) a lot."
   ]
  },
  {
   "cell_type": "markdown",
   "id": "568578e4-715e-4b37-a8b7-ac2d39648805",
   "metadata": {},
   "source": [
    "# Exercise 3"
   ]
  },
  {
   "cell_type": "markdown",
   "id": "1e33e8dd-7e6b-4dcd-ba6a-ba606c620708",
   "metadata": {},
   "source": [
    "## (a) (2 points) \n",
    "What happens when Gaussian elimination with partial pivoting is used on a matrix of the following form?\n",
    "$$\n",
    "  \\begin{bmatrix}\n",
    "     1 &  0 &  0 &  0 &  1 \\\\\n",
    "    -1 &  1 &  0 &  0 &  1 \\\\\n",
    "    -1 & -1 &  1 &  0 &  1 \\\\\n",
    "    -1 & -1 & -1 &  1 &  1 \\\\\n",
    "    -1 & -1 & -1 & -1 &  1 \n",
    "  \\end{bmatrix}\n",
    "$$\n",
    "Do the entries of the transformed matrix grow? What happens if complete pivoting is used instead? (Note that part (a) does not require a computer.)\n"
   ]
  },
  {
   "cell_type": "markdown",
   "id": "8b94eff9-22b6-4e4e-8029-852543e2a155",
   "metadata": {},
   "source": [
    "**Answer:**\n",
    "\n",
    "The given case is the worst possible one for the Guassian Elimination. Last collumn will grow exponentially with the partial pivoting.\n",
    "\n",
    "However with complete pivoting this issue is solved as we can interchange columns too. As can be seen we will \"correct\" last column on each step si it will not blow out. However this comes at a computational cost.\n",
    "\n",
    "Show calculations by hand"
   ]
  },
  {
   "cell_type": "markdown",
   "id": "3bccc007-74d6-4488-a1bb-0bf038cd8027",
   "metadata": {},
   "source": [
    "## (b) (2 points)\n",
    "Write a method that generates a matrix of the form of part (a) of size $n \\times n$ for any $n$. Use a library routine for Gaussian elimination with partial pivoting to solve various sizes of linear systems of this form, using right-hand-side vectors chosen so that the solution is known. Try for example the case where the true solution is a vector of uniformly distributed random numbers between 0 and 1. How do the error, residual, and condition number behave as the systems become larger? Comment on the stability (see chapter 1) of Gaussian elimination with partial pivoting in this case.\n",
    "\n",
    "N.B. This is an artificially contrived system that does not reflect the behavior of Gaussian elimination in realistic examples."
   ]
  },
  {
   "cell_type": "code",
   "execution_count": 10,
   "id": "3790cc3a-e127-478a-82b8-77947bf693a5",
   "metadata": {},
   "outputs": [
    {
     "name": "stdout",
     "output_type": "stream",
     "text": [
      "Matrix A:\n",
      " [[ 1.  0.  0.  0.  1.]\n",
      " [-1.  1.  0.  0.  1.]\n",
      " [-1. -1.  1.  0.  1.]\n",
      " [-1. -1. -1.  1.  1.]\n",
      " [-1. -1. -1. -1.  1.]]\n",
      "\n",
      "Evaluation:\n",
      "cond(A):  5.0\n",
      "error:  3.510833468576701e-16\n",
      "residual:  4.710277376051325e-16\n"
     ]
    }
   ],
   "source": [
    "def get_matrix(n):\n",
    "    A = np.zeros((n,n))\n",
    "    for i in range(n):\n",
    "        for j in range(n):\n",
    "            # if diagonal\n",
    "            if i == j:\n",
    "                A[i][j] = 1\n",
    "            # if last column\n",
    "            elif j == n - 1:\n",
    "                A[i][j] = 1\n",
    "            # if under diagonal\n",
    "            elif j < i:\n",
    "                A[i][j] = -1\n",
    "    return A\n",
    "\n",
    "def test_matrix(A, p=False):\n",
    "    n = len(A) \n",
    "\n",
    "    # problem with known solution \n",
    "    xTrue = np.random.uniform(0,1,(n,1)) # true value of x (uniform distributed random vector)\n",
    "    b = A @ xTrue\n",
    "\n",
    "    # LU decomposition with partial pivoting\n",
    "    lu, piv = lu_factor(A)\n",
    "    xApprox = lu_solve((lu, piv), b)\n",
    "\n",
    "    # condition number\n",
    "    condN = cond(A, p=np.inf)\n",
    "    # error\n",
    "    error = norm(xApprox-xTrue)\n",
    "    # residual\n",
    "    res = norm(b - A @ xApprox)\n",
    "    \n",
    "    # print results\n",
    "    if p: \n",
    "        print(\"Matrix A:\\n\", A)\n",
    "        print(\"\\nEvaluation:\")\n",
    "        print(\"cond(A): \", condN)\n",
    "        print(\"error: \", error) \n",
    "        print(\"residual: \", res)\n",
    "\n",
    "    return condN, error, res\n",
    "\n",
    "n = 5\n",
    "A = get_matrix(n)\n",
    "evalResults = test_matrix(A, p=True)"
   ]
  },
  {
   "cell_type": "code",
   "execution_count": 11,
   "id": "14e65fd1",
   "metadata": {},
   "outputs": [],
   "source": [
    "def simulate(N, trails):\n",
    "    # initialize result lists\n",
    "    conditionNums, errors, residuals = [], [], []\n",
    "   \n",
    "    # for every potential size of n\n",
    "    for i, n in enumerate(N):\n",
    "        # generate A -> nxn\n",
    "        A = get_matrix(n)\n",
    "        conditionNums.append([])\n",
    "        errors.append([])\n",
    "        residuals.append([])\n",
    "\n",
    "        # evaluate A over an amount of trails\n",
    "        for t in range(trails):\n",
    "            evalResults = test_matrix(A)\n",
    "            conditionNums[i].append(evalResults[0])\n",
    "            errors[i].append(evalResults[1])\n",
    "            residuals[i].append(evalResults[2])\n",
    "    \n",
    "    # average eval results over trails\n",
    "    for i in range(len(N)):\n",
    "        conditionNums[i] = sum(conditionNums[i]) / len(conditionNums[i])\n",
    "        errors[i] = sum(errors[i]) / len(errors[i])\n",
    "        residuals[i] = sum(residuals[i]) / len(residuals[i])\n",
    "\n",
    "    return conditionNums, errors, residuals\n",
    "\n",
    "N = [i for i in range(2,100)]\n",
    "trails = 10\n",
    "conditionNums, errors, residuals = simulate(N, trails)\n"
   ]
  },
  {
   "cell_type": "code",
   "execution_count": 12,
   "id": "68c354aa",
   "metadata": {},
   "outputs": [
    {
     "name": "stdout",
     "output_type": "stream",
     "text": [
      "These results were based on 10 trails per matrix size (nxn).\n"
     ]
    },
    {
     "data": {
      "image/png": "[encoded data removed]",
      "text/plain": [
       "<Figure size 1000x600 with 3 Axes>"
      ]
     },
     "metadata": {},
     "output_type": "display_data"
    }
   ],
   "source": [
    "def plot_eval(N, trails, conditionNums, errors, residuals):\n",
    "    print(\"These results were based on {} trails per matrix size (nxn).\".format(trails))\n",
    "\n",
    "    fig, axes = plt.subplots(nrows=2, ncols=2, figsize=(10, 6))  # define the figure and subplots\n",
    "    axes = axes.ravel()  # array to 1D\n",
    "\n",
    "    # plot condition number\n",
    "    axes[0].plot(N,conditionNums,color='tab:blue')\n",
    "    # axes[0].set_yscale('log')\n",
    "    axes[0].set_title('Cond(A)')\n",
    "    axes[0].set_xlabel('N')\n",
    "    \n",
    "    # plot errors\n",
    "    axes[1].plot(N,errors,color='tab:orange')\n",
    "    axes[1].set_yscale('log')\n",
    "    axes[1].set_title('Error')\n",
    "    axes[1].set_xlabel('N')\n",
    "\n",
    "    # plot residuals\n",
    "    axes[2].plot(N,residuals,color='tab:green')\n",
    "    axes[2].set_yscale('log')\n",
    "    axes[2].set_title('Residual')\n",
    "    axes[2].set_xlabel('N')\n",
    "        \n",
    "    fig.delaxes(axes[3])  # delete the empty subplot\n",
    "    fig.tight_layout()\n",
    "    plt.show()\n",
    "\n",
    "plot_eval(N, trails, conditionNums, errors, residuals)"
   ]
  },
  {
   "cell_type": "markdown",
   "id": "6f016896",
   "metadata": {},
   "source": [
    "**Answer:**\n",
    "\n",
    "In the graph above we can see what happens to the condition number, the error and the residual, for solving a system of linear equations, $Ax=b$, with Gaussian elimination. We can see that when the matrix $A$ grows in size ($n$ increases), that the three evaluation values increase as well. The condition number of $A$ increases linearly along with the size ($n$) of $A$, thus when the size of $A$ is $100\\times 100$, $cond(A)=100$. The error and residuals are plotted on a logaritmic y-scale, here we can see that both increase untill the size of $A$ reaches a size of roughly $n=60$, from here on the values plateau, with occasional spikes due to the randomly generated uniform true solution vector.\n"
   ]
  }
 ],
 "metadata": {
  "kernelspec": {
   "display_name": "Python 3.10.6 64-bit",
   "language": "python",
   "name": "python3"
  },
  "language_info": {
   "codemirror_mode": {
    "name": "ipython",
    "version": 3
   },
   "file_extension": ".py",
   "mimetype": "text/x-python",
   "name": "python",
   "nbconvert_exporter": "python",
   "pygments_lexer": "ipython3",
   "version": "3.10.6"
  },
  "vscode": {
   "interpreter": {
    "hash": "b0fa6594d8f4cbf19f97940f81e996739fb7646882a419484c72d19e05852a7e"
   }
  }
 },
 "nbformat": 4,
 "nbformat_minor": 5
}
