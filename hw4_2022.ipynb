{
 "cells": [
  {
   "cell_type": "markdown",
   "id": "d4c81d3e-6c35-4c9e-9721-dc27a3d00251",
   "metadata": {
    "nbgrader": {
     "grade": false,
     "grade_id": "cell-06d3e5bf55c941ae",
     "locked": true,
     "schema_version": 3,
     "solution": false,
     "task": false
    },
    "tags": []
   },
   "source": [
    "# Homework set 4"
   ]
  },
  {
   "cell_type": "markdown",
   "id": "64728360-8bed-4d1f-bb87-bf746ea66002",
   "metadata": {
    "nbgrader": {
     "grade": false,
     "grade_id": "cell-736ff6bc3e0d0696",
     "locked": true,
     "schema_version": 3,
     "solution": false,
     "task": false
    }
   },
   "source": [
    "Before you turn this problem in, make sure everything runs as expected (in the menubar, select Kernel → Restart Kernel and Run All Cells...).\n",
    "\n",
    "Please **submit this Jupyter notebook through Canvas** no later than **Mon Nov. 28, 9:00**. **Submit the notebook file with your answers (as .ipynb file) and a pdf printout. The pdf version can be used by the teachers to provide feedback. A pdf version can be made using the save and export option in the Jupyter Lab file menu.**\n",
    "\n",
    "Homework is in **groups of two**, and you are expected to hand in original work. Work that is copied from another group will not be accepted."
   ]
  },
  {
   "cell_type": "markdown",
   "id": "d8c33491-f6d6-45df-9857-8fae1d7d446c",
   "metadata": {
    "nbgrader": {
     "grade": false,
     "grade_id": "cell-b13bc5ed16bce8e0",
     "locked": true,
     "schema_version": 3,
     "solution": false,
     "task": false
    }
   },
   "source": [
    "# Exercise 0\n",
    "Write down the names + student ID of the people in your group."
   ]
  },
  {
   "cell_type": "markdown",
   "id": "9483e0d9-7aec-4521-90ac-761fb34ee023",
   "metadata": {
    "nbgrader": {
     "grade": true,
     "grade_id": "cell-fd464f55ba436b1c",
     "locked": false,
     "points": 0,
     "schema_version": 3,
     "solution": true,
     "task": false
    }
   },
   "source": [
    "Christos Perchanidis    (14601206)\n",
    "\n",
    "River Vaudrin           (11877154)"
   ]
  },
  {
   "cell_type": "markdown",
   "id": "40a6166f-8dc2-4eb0-b953-961fe8f7a2ce",
   "metadata": {},
   "source": [
    "# About imports\n",
    "Please import the needed packages by yourself."
   ]
  },
  {
   "cell_type": "markdown",
   "id": "a78e262c-f192-4fe5-853b-03248173a9be",
   "metadata": {},
   "source": [
    "# Sparse matrices\n",
    "A _sparse matrix_ or _sparse array_ is a matrix in which most of the elements are zero. There is no strict definition how many elements need to be zero for a matrix to be considered sparse. In many examples, the number of nonzeros per row or column is a small fraction, a few percent or less, of the total number of elements of the row or column. By contrast, if most of the elements are nonzero, then the matrix is considered _dense_. \n",
    "\n",
    "In the context of software for scientific computing, a sparse matrix typically refers to a storage format, in which elements which are known to be zero are not stored. In Python, the library `scipy.sparse` defines several sparse matrix classes, such as `scipy.sparse.coo_matrix`. To construct such an object, one passes for each nonzero element the value, and the row and column coordinates. In some cases, one can also just pass the nonzero (off-)diagonals, see `scipy.sparse.diags`.\n",
    "\n",
    "Functions for dense matrices do not always work with sparse matrices. For example for the product of a sparse matrix with a (dense) vector, there is the member function `scipy.sparse.coo_matrix.dot`, and for solving linear equations involving a sparse matrix, there is the function `scipy.sparse.linalg.spsolve`."
   ]
  },
  {
   "cell_type": "code",
   "execution_count": 1,
   "id": "a15365c2-c8be-49b7-b74f-e6ef30ffd26d",
   "metadata": {},
   "outputs": [],
   "source": [
    "# Import some basic packages\n",
    "import numpy as np\n",
    "import matplotlib.pyplot as plt\n",
    "import math"
   ]
  },
  {
   "cell_type": "code",
   "execution_count": 2,
   "id": "5af47d5f-d55a-4902-b99c-9ce793726c32",
   "metadata": {},
   "outputs": [
    {
     "name": "stdout",
     "output_type": "stream",
     "text": [
      "When printing a sparse matrix, it shows its nonzero entries:\n",
      "  (0, 0)\t4.0\n",
      "  (3, 3)\t5.0\n",
      "  (1, 1)\t7.0\n",
      "  (0, 2)\t9.0\n",
      "If you want to see its `dense` matrix form, you have to use `mat.toarray()`:\n",
      "[[4. 0. 9. 0.]\n",
      " [0. 7. 0. 0.]\n",
      " [0. 0. 0. 0.]\n",
      " [0. 0. 0. 5.]]\n",
      "For x=[1 2 3 4], Mx = [31. 14.  0. 20.]\n"
     ]
    }
   ],
   "source": [
    "from scipy.sparse import coo_matrix\n",
    "\n",
    "# This is how to create a sparse matrix from a given list of (row, column, value) tuples.\n",
    "row  = [0,   3,   1,   0]\n",
    "col  = [0,   3,   1,   2]\n",
    "data = [4.0, 5.0, 7.0, 9.0]\n",
    "M = coo_matrix((data, (row, col)), shape=(4, 4))\n",
    "\n",
    "print(\"When printing a sparse matrix, it shows its nonzero entries:\")\n",
    "print(M)\n",
    "\n",
    "print(\"If you want to see its `dense` matrix form, you have to use `mat.toarray()`:\")\n",
    "print(M.toarray())\n",
    "\n",
    "# This is how to perform matrix-vector products.\n",
    "x = np.array([1, 2, 3, 4])\n",
    "print(\"For x={}, Mx = {}\".format(x, M.dot(x)))"
   ]
  },
  {
   "cell_type": "code",
   "execution_count": 3,
   "id": "7f1c616d-9651-4da7-94fc-3e53f2362250",
   "metadata": {},
   "outputs": [
    {
     "name": "stdout",
     "output_type": "stream",
     "text": [
      "This matrix has values on its diagonal and on offdiagonals 1 and 2 rows ABOVE it.\n",
      "[[1. 1. 1. 0.]\n",
      " [0. 2. 2. 2.]\n",
      " [0. 0. 3. 3.]\n",
      " [0. 0. 0. 4.]]\n",
      "This matrix has values on its diagonal and on offdiagonals 1 and 2 rows BELOW it.\n",
      "[[1. 0. 0. 0.]\n",
      " [1. 2. 0. 0.]\n",
      " [1. 2. 3. 0.]\n",
      " [0. 2. 3. 4.]]\n",
      "If you want to visualize the matrix for yourself, use `plt.imshow`:\n"
     ]
    },
    {
     "data": {
      "image/png": "[encoded data removed]",
      "text/plain": [
       "<Figure size 640x480 with 2 Axes>"
      ]
     },
     "metadata": {},
     "output_type": "display_data"
    },
    {
     "name": "stdout",
     "output_type": "stream",
     "text": [
      "For b=[1 2 3 4], the solution x to Mx=b is [1.         0.5        0.33333333 0.5       ]\n",
      "And indeed, Mx - b = [0. 0. 0. 0.]\n"
     ]
    }
   ],
   "source": [
    "from scipy.sparse import diags, SparseEfficiencyWarning\n",
    "from scipy.sparse.linalg import spsolve\n",
    "import warnings\n",
    "warnings.simplefilter('ignore', SparseEfficiencyWarning)  # Suppress confusing warning\n",
    "\n",
    "# This is how to create a sparse matrix from a given list of subdiagonals.\n",
    "diagonals = [[1, 2, 3, 4], [1, 2, 3], [1, 2]]\n",
    "M = diags(diagonals, [0, 1, 2])\n",
    "print(\"This matrix has values on its diagonal and on offdiagonals 1 and 2 rows ABOVE it.\")\n",
    "print(M.toarray())\n",
    "\n",
    "M = diags(diagonals, [0, -1, -2])\n",
    "print(\"This matrix has values on its diagonal and on offdiagonals 1 and 2 rows BELOW it.\")\n",
    "print(M.toarray())\n",
    "\n",
    "print(\"If you want to visualize the matrix for yourself, use `plt.imshow`:\")\n",
    "plt.imshow(M.toarray())\n",
    "plt.colorbar()\n",
    "plt.show()\n",
    "\n",
    "# This is how to solve sparse systems.\n",
    "b = np.array([1, 2, 3, 4])\n",
    "x = spsolve(M, b)\n",
    "print(\"For b={}, the solution x to Mx=b is {}\".format(b, x))\n",
    "print(\"And indeed, Mx - b = {}\".format(M.dot(x) - b))"
   ]
  },
  {
   "cell_type": "markdown",
   "id": "972d8aca-b5f4-48a5-8a43-f3dccb0ea9ef",
   "metadata": {},
   "source": [
    "--------\n",
    "# Exercise 1\n",
    "Consider the following boundary value problem involving a nonlinear ordinary differential equation:\n",
    "\n",
    "$$ \\tag{1} y''(x) + \\exp(y(x)) = 0, \\quad 0 < x < 1, \\quad y(0) = y(1) = 0.$$\n",
    "\n",
    "The purpose of this exercise is to approximate the solution to this boundary value problem, by discretizing the problem and then solving the resulting system of nonlinear equations. "
   ]
  },
  {
   "cell_type": "markdown",
   "id": "cb770a03-ba0f-4de2-b326-c429868fa1ac",
   "metadata": {},
   "source": [
    "Problem (1) will be discretized using finite differences. Suppose we use $n+2$ discretization points for $x$, denoted $x_k = kh$ for $k \\in \\{0, \\ldots, n+1\\}$ and $h = 1/(n+1)$. The approximate solution is denoted $y_k = y(x_k)$. \n",
    "\n",
    "We will use a _second-order central finite difference_ approximation for the second derivative: \n",
    "\n",
    "$$ \\tag{2} y''(x_k) \\approx \\frac{y_{k-1} - 2 y_k + y_{k+1}}{h^2}.$$\n",
    "\n",
    "The term $\\exp(y(x_k))$ can simply be approximated by $\\exp(y_k)$. Thus for $x=x_k$, equation (1) becomes\n",
    "\n",
    "$$ \\tag{3} \\frac{y_{k-1} - 2 y_k + y_{k+1}}{h^2} + \\exp y_k = 0, \\quad k = 1, \\ldots, n.$$\n",
    "\n",
    "The boundary conditions (the conditions $y(0) = y(1) = 1$), lead to the requirement that $y_0 = y_{n+1} = 0$. To find the remaining values $y_k$, $k=1, \\ldots, n$, equation (3) will be used for $k = 1, \\ldots, n$. In this way, one obtains $n$ equations for $n$ unknowns, to which, in principle, a rootfinding method can be applied.\n",
    "\n",
    "We will write $\\vec y = \\begin{bmatrix} y_1 \\\\ \\vdots \\\\ y_n \\end{bmatrix}$ for the vector of values to be determined. \n"
   ]
  },
  {
   "cell_type": "markdown",
   "id": "7c341388-63b4-4b7a-aeaf-9dcf4173cefc",
   "metadata": {},
   "source": [
    "## (a)  (2 pts)\n",
    "As a first step, finish the function `SecondDerMatrix` that returns a matrix $\\bf{M}$ that maps the vector $\\vec y$ to the vector of the approximate values $y''(x_k)$, $k=1, \\ldots, n$ given in (2). To get full points for this part of the exercise you must create output in the form of a sparse matrix."
   ]
  },
  {
   "cell_type": "code",
   "execution_count": 4,
   "id": "dcbf2b55-d129-4cbe-a517-416c2682d8d5",
   "metadata": {},
   "outputs": [
    {
     "name": "stdout",
     "output_type": "stream",
     "text": [
      "For y=[[0. 0. 0. 0.]] the Hessian (Second Derivative Matrix M) is:\n",
      "\n",
      "Sparse Matrix Form:\n",
      "  (0, 0)\t0.0\n",
      "  (1, 1)\t0.0\n",
      "  (2, 2)\t0.0\n",
      "  (3, 3)\t0.0\n",
      "\n",
      "Dense Matrix Form:\n",
      "[[0. 0. 0. 0.]\n",
      " [0. 0. 0. 0.]\n",
      " [0. 0. 0. 0.]\n",
      " [0. 0. 0. 0.]]\n"
     ]
    }
   ],
   "source": [
    "from scipy.sparse import coo_matrix\n",
    "\n",
    "# Hessian Matrix\n",
    "def SecondDerMatrix(y, n): \n",
    "    # calculate h and h^2\n",
    "    h = 1 / (n + 1)\n",
    "    h2 = h * h\n",
    "\n",
    "    # init lists needed to create sparse matrix\n",
    "    row, col, data = [], [], []\n",
    "    \n",
    "    # loop over solutions of equations\n",
    "    for k in range(n):\n",
    "        # calculate approximation for second derivatives (check if first or last element of y)\n",
    "        if k == 0:\n",
    "            y_prime2 = (0 - 2*y[k][0] + y[k+1][0]) / h2\n",
    "        elif k == n-1:\n",
    "            y_prime2 = (y[k-1][0] - 2*y[k][0] + 0) / h2\n",
    "        else:\n",
    "            y_prime2 = (y[k-1][0] - 2*y[k][0] + y[k+1][0]) / h2\n",
    "\n",
    "        # save data for creation of sparse matrix\n",
    "        data.append(y_prime2)\n",
    "        row.append(k)\n",
    "        col.append(k)\n",
    "    \n",
    "    # create sparse Hessian matrix\n",
    "    M = coo_matrix((data, (row, col)), shape=(n, n))\n",
    "    return M\n",
    "\n",
    "n = 4\n",
    "y = np.zeros([n,1])\n",
    "print(\"For y={} the Hessian (Second Derivative Matrix M) is:\\n\".format(y.reshape(1, n)))\n",
    "print(\"Sparse Matrix Form:\\n{}\".format(SecondDerMatrix(y, n)))\n",
    "print(\"\\nDense Matrix Form:\\n{}\".format(SecondDerMatrix(y, n).toarray()))"
   ]
  },
  {
   "cell_type": "markdown",
   "id": "402404a4-8673-4529-b452-94c05e994cf2",
   "metadata": {},
   "source": [
    "## (b)  (1 pt)\n",
    "Second-order central finite differences are exact for quadratic functions. In order to test your implementation, choose $n=10$ and apply the second derivative matrix from part (a) to a quadratic function $y(x)$ with $y(0) = y(1) = 0$ for which you know the second derivative $y''(x)$."
   ]
  },
  {
   "cell_type": "code",
   "execution_count": 6,
   "id": "dea2b67c-4c28-42f3-9555-fdc2795741ab",
   "metadata": {},
   "outputs": [
    {
     "name": "stdout",
     "output_type": "stream",
     "text": [
      "For x=[0.09090909 0.18181818 0.27272727 0.36363636 0.45454545 0.54545455\n",
      " 0.63636364 0.72727273 0.81818182 0.90909091] (of length 10)\n",
      "\n",
      "As input for y(x)=2x^2 - 2x returns:\n",
      "y=[[-0.16528926 -0.29752066 -0.39669421 -0.46280992 -0.49586777 -0.49586777\n",
      "  -0.46280992 -0.39669421 -0.29752066 -0.16528926]] (of length 10)\n",
      "\n",
      "The Second Derivative (Sparse) Matrix of this y is:\n",
      "  (0, 0)\t4.0\n",
      "  (1, 1)\t4.0\n",
      "  (2, 2)\t4.0\n",
      "  (3, 3)\t4.0\n",
      "  (4, 4)\t4.0\n",
      "  (5, 5)\t4.0\n",
      "  (6, 6)\t4.0\n",
      "  (7, 7)\t4.000000000000013\n",
      "  (8, 8)\t3.9999999999999867\n",
      "  (9, 9)\t3.9999999999999867\n"
     ]
    }
   ],
   "source": [
    "# Chosen quadratic function where x=0/x=1 equal to 0: y(x)=2x^2 - 2x\n",
    "# Its second order derivative: y\"(x)=4\n",
    "\n",
    "n = 10\n",
    "# create an array of equally spaced numbers between 0 and 1\n",
    "X = np.linspace(0, 1, num=n+2)[1:-1] # remove 0 and 1 from list\n",
    "\n",
    "y = np.zeros([n,1])\n",
    "for i, x in enumerate(X):\n",
    "    eq = 2*x**2 - 2*x\n",
    "    y[i][0] = eq\n",
    "\n",
    "print(\"For x={} (of length {})\".format(X, len(X)))\n",
    "print(\"\\nAs input for y(x)=2x^2 - 2x returns:\")\n",
    "print(\"y={} (of length {})\".format(y.reshape(1, n), len(y)))\n",
    "print(\"\\nThe Second Derivative (Sparse) Matrix of this y is:\\n{}\".format(SecondDerMatrix(y, n)))"
   ]
  },
  {
   "cell_type": "markdown",
   "id": "f7ea12a5",
   "metadata": {},
   "source": [
    "**Answer:**\n",
    "\n",
    "For the chosen quadratic function where $x=0$ and $x=1$ is equal to $0$: $y(x)=2x^2 - 2x$, the second derivative is $y''(x)=4$.\n",
    "\n",
    "Our implementation for the second derivative matrix returns the correct second derivatives for this function. Thus we assume our implementation is correct."
   ]
  },
  {
   "cell_type": "markdown",
   "id": "3c6b937a-a06a-4d24-ae49-d036ef88ba03",
   "metadata": {},
   "source": [
    "## (c) (2 pts)\n",
    "\n",
    "Defining $\\vec y = \\begin{bmatrix} y_1 \\\\ \\vdots \\\\ y_n \\end{bmatrix}$ and \n",
    "$E(\\vec y) = \\begin{bmatrix} \\exp(y_1) \\\\ \\vdots \\\\ \\exp(y_n) \\end{bmatrix}$, the equations (3) can be written in the form\n",
    "\n",
    "$$ F(\\vec y) := {\\bf M} \\cdot \\vec y + E(\\vec y) = \\vec 0. $$\n",
    "\n",
    "Finish the function `F` that defines $F(\\vec y) = {\\bf M} \\cdot \\vec y + E(\\vec y)$.\n",
    "Finish the function `JacobianF` that computes the Jacobian ${\\bf J}_F(\\vec y)$ of $F(\\vec y)$.\n",
    "To get full points for this part of the exercise, the Jacobian must be computed in the form of a sparse matrix."
   ]
  },
  {
   "cell_type": "code",
   "execution_count": 8,
   "id": "f693cfc3-9639-419a-b8f8-5179c3e60123",
   "metadata": {},
   "outputs": [
    {
     "name": "stdout",
     "output_type": "stream",
     "text": [
      "For y=[[-0.16528926 -0.29752066 -0.39669421 -0.46280992 -0.49586777 -0.49586777\n",
      "  -0.46280992 -0.39669421 -0.29752066 -0.16528926]]\n",
      "\n",
      "F(y)=[[ 0.18649146 -0.44742541 -0.91423721 -1.22172739 -1.3744289  -1.3744289\n",
      "  -1.22172739 -0.91423721 -0.44742541  0.18649146]]\n",
      "\n",
      "JF(y)=     (Sparse Form)\n",
      "  (0, 0)\t-241.15235151895368\n",
      "  (1, 1)\t-241.25734276109557\n",
      "  (2, 2)\t-241.32746035318763\n",
      "  (3, 3)\t-241.3704877195046\n",
      "  (4, 4)\t-241.39095782974962\n",
      "  (5, 5)\t-241.39095782974962\n",
      "  (6, 6)\t-241.3704877195046\n",
      "  (7, 7)\t-241.32746035318763\n",
      "  (8, 8)\t-241.25734276109557\n",
      "  (9, 9)\t-241.15235151895368\n",
      "  (0, 1)\t121.0\n",
      "  (1, 2)\t121.0\n",
      "  (2, 3)\t121.0\n",
      "  (3, 4)\t121.0\n",
      "  (4, 5)\t121.0\n",
      "  (5, 6)\t121.0\n",
      "  (6, 7)\t121.0\n",
      "  (7, 8)\t121.0\n",
      "  (8, 9)\t121.0\n",
      "  (1, 0)\t121.0\n",
      "  (2, 1)\t121.0\n",
      "  (3, 2)\t121.0\n",
      "  (4, 3)\t121.0\n",
      "  (5, 4)\t121.0\n",
      "  (6, 5)\t121.0\n",
      "  (7, 6)\t121.0\n",
      "  (8, 7)\t121.0\n",
      "  (9, 8)\t121.0\n"
     ]
    }
   ],
   "source": [
    "def F(y):\n",
    "    n = len(y)\n",
    "    # obtain Hessian\n",
    "    M = SecondDerMatrix(y, n)\n",
    "    \n",
    "    # calculate F(y) = My + E(y)\n",
    "    Fy = M.dot(y) + np.exp(y) \n",
    "    return Fy\n",
    "    \n",
    "def JacobianF(y):\n",
    "    n = len(y)\n",
    "    # calculate h and h^2\n",
    "    h = 1 / (n + 1)\n",
    "    h2 = h * h\n",
    "\n",
    "    # init lists needed to create diagonal sparse matrix\n",
    "    diagonals = [[],[],[]]\n",
    "    for i in range(n):\n",
    "        for j in range(n):\n",
    "            # if diagonal of J (append partial derivative of yi)\n",
    "            if i == j:\n",
    "                diagonals[0].append(-2.0 / h2 + np.exp(y[i][0]))\n",
    "            # if one above diagonal of J (append partial derivative of yi+1)\n",
    "            elif i == j + 1:\n",
    "                diagonals[1].append(1.0 / h2)\n",
    "            # if one below diagonal of J (append partial derivative of yi-1)\n",
    "            elif i == j - 1:\n",
    "                diagonals[2].append(1.0 / h2)\n",
    "\n",
    "    # create sparse (off)diagonal matrix\n",
    "    JFy = diags(diagonals, [0, 1, -1])\n",
    "    return JFy\n",
    "\n",
    "print(\"For y={}\\n\".format(y.reshape(1,n)))\n",
    "print(\"F(y)={}\\n\".format(F(y).reshape(1,n)))\n",
    "print(\"JF(y)=     (Sparse Form)\\n{}\".format(JacobianF(y)))"
   ]
  },
  {
   "cell_type": "markdown",
   "id": "8da07053-496c-4e60-a278-422c113ff702",
   "metadata": {},
   "source": [
    "## (d)  (3 pts)\n",
    "1. Write down the first order Taylor expansion $T_F(\\vec y, \\vec s)$ for $F(\\vec y+\\vec s)$.\n",
    "2. In order to check your implementation of the Jacobian matrix, compute and print both $F(\\vec y+\\vec s)$ and its first order Taylor approximation $T_F(\\vec y, \\vec s)$ for a choice $\\vec y$ and $\\vec s$.\n",
    "3. Verify numerically that the error $||F(\\vec y + \\vec s) - T_F(\\vec y, \\vec s)||_2$ is $\\mathcal O(||\\vec s||_2^2)$. Hint: take vectors $\\vec s$ with $\\|\\vec s\\|_2 = \\mathcal O(h)$  for multiple values for $h$, e.g. $h = 10^{-k}$ for a range of $k$. "
   ]
  },
  {
   "cell_type": "markdown",
   "id": "48d3fd40-cff8-40b6-8e6e-5aa2a48fd4e0",
   "metadata": {},
   "source": [
    "Subquestion 1.\n",
    "\n",
    "YOUR ANSWER HERE"
   ]
  },
  {
   "cell_type": "code",
   "execution_count": 9,
   "id": "bb9cb01a-1fca-400f-b860-c4efaceada23",
   "metadata": {},
   "outputs": [],
   "source": [
    "# Subquestions 2 and 3.\n",
    "\n",
    "# YOUR CODE HERE\n"
   ]
  },
  {
   "cell_type": "markdown",
   "id": "c594be9d-8265-4aa0-aa7d-bd9f30e167aa",
   "metadata": {},
   "source": [
    "## (e) (2 pts)\n",
    "1. Finish the function `NewtonSolve` below to solve the system of equations.\n",
    "2. Take $n=40$, and experiment with your function. Try to find a choice of `y0` such that the method doesn't converge, as well as a choice of `y0` such that the method converges. In your answer, list the types of convergence behavior you found. Show a convergent example (if you found any) and a nonconvergent example (if you found any). Show the solutions you found for each example."
   ]
  },
  {
   "cell_type": "code",
   "execution_count": 10,
   "id": "c5adc7dd-783d-4849-b84c-94da20631c9f",
   "metadata": {},
   "outputs": [
    {
     "name": "stdout",
     "output_type": "stream",
     "text": [
      "With our initial guess:\n",
      "y0=[[0. 0. 0. 0. 0. 0. 0. 0. 0. 0. 0. 0. 0. 0. 0. 0. 0. 0. 0. 0. 0. 0. 0. 0.\n",
      "  0. 0. 0. 0. 0. 0. 0. 0. 0. 0. 0. 0. 0. 0. 0. 0.]]\n",
      "\n",
      "After 50 iterations our NewtonSolve implementation came up with this solution:\n",
      "y=[[0.06088897 0.11174175 0.15663807 0.19708849 0.23386121 0.26741905\n",
      "  0.29806978 0.32603131 0.35146464 0.37449236 0.39520983 0.41369235\n",
      "  0.42999995 0.44418074 0.45627321 0.46630799 0.47430905 0.48029465\n",
      "  0.48427795 0.4862675  0.4862675  0.48427795 0.48029465 0.47430905\n",
      "  0.46630799 0.45627321 0.44418074 0.42999995 0.41369235 0.39520983\n",
      "  0.37449236 0.35146464 0.32603131 0.29806978 0.26741905 0.23386121\n",
      "  0.19708849 0.15663807 0.11174175 0.06088897]]\n",
      "\n",
      "If you use our found solution as an input for F(y) you obtain:\n",
      "F(y)=[[ 3.55321369e-02 -6.23581634e-04 -1.06954872e-03 -5.96907474e-04\n",
      "  -3.62905478e-04 -2.47380556e-04 -1.83242889e-04 -1.43943040e-04\n",
      "  -1.18088012e-04 -1.00187365e-04 -8.73243836e-05 -7.78286497e-05\n",
      "  -7.06866076e-05 -6.52551833e-05 -6.11122568e-05 -5.79739900e-05\n",
      "  -5.56470172e-05 -5.39998599e-05 -5.29455187e-05 -5.24309281e-05\n",
      "  -5.24309281e-05 -5.29455187e-05 -5.39998599e-05 -5.56470172e-05\n",
      "  -5.79739900e-05 -6.11122568e-05 -6.52551833e-05 -7.06866076e-05\n",
      "  -7.78286496e-05 -8.73243837e-05 -1.00187364e-04 -1.18088013e-04\n",
      "  -1.43943040e-04 -1.83242889e-04 -2.47380556e-04 -3.62905478e-04\n",
      "  -5.96907474e-04 -1.06954872e-03 -6.23581634e-04  3.55321369e-02]]\n",
      "\n",
      "This is close to being a zero-vector, thus we assume our implementation is correct.\n"
     ]
    }
   ],
   "source": [
    "# Subquestion 1.\n",
    "def NewtonSolve(y0, K): \n",
    "    \"\"\" Use Newton's method to solve F(y) = 0 with initial guess y0 and K iterations. \"\"\"\n",
    "    # initial guess\n",
    "    y = y0\n",
    "    n = len(y0)\n",
    "\n",
    "    for k in range(K):\n",
    "        # determine Fy and JFy for current solution\n",
    "        Fy = F(y)\n",
    "        JFy = JacobianF(y)\n",
    "\n",
    "        # compute Newton step\n",
    "        s = spsolve(JFy, -Fy).reshape(n, 1)\n",
    "\n",
    "        # update solution\n",
    "        y = y + s\n",
    "\n",
    "    return y\n",
    "\n",
    "n = 40\n",
    "y0 = np.zeros([n,1])\n",
    "K = 50\n",
    "y = NewtonSolve(y0, K)\n",
    "print(\"With our initial guess:\\ny0={}\\n\".format(y0.reshape(1,n)))\n",
    "print(\"After {} iterations our NewtonSolve implementation came up with this solution:\\ny={}\\n\".format(K, y.reshape(1,n)))\n",
    "print(\"If you use our found solution as an input for F(y) you obtain:\\nF(y)={}\\n\".format(F(y).reshape(1,n)))\n",
    "print(\"This is close to being a zero-vector, thus we assume our implementation is correct.\")\n"
   ]
  },
  {
   "cell_type": "code",
   "execution_count": 11,
   "id": "1da7b59a",
   "metadata": {},
   "outputs": [
    {
     "name": "stdout",
     "output_type": "stream",
     "text": [
      "For an initial guess of a 40x1 vector of ones: \n",
      "y0=[[1. 1. 1. 1. 1. 1. 1. 1. 1. 1. 1. 1. 1. 1. 1. 1. 1. 1. 1. 1. 1. 1. 1. 1.\n",
      "  1. 1. 1. 1. 1. 1. 1. 1. 1. 1. 1. 1. 1. 1. 1. 1.]]\n",
      "\n",
      "Our NewtonSolve implementation comes up with a solution close to the previously seen solution when our initial guess is a vector of all zeros and we run our solver for 50 iterations: \n",
      "y=[[0.04314546 0.08394449 0.12242811 0.15862528 0.19256296 0.22426611\n",
      "  0.25375778 0.28105914 0.30618955 0.32916661 0.3500062  0.36872257\n",
      "  0.38532838 0.39983473 0.41225123 0.42258604 0.43084588 0.43703612\n",
      "  0.44116074 0.44322239 0.44322239 0.44116074 0.43703612 0.43084588\n",
      "  0.42258604 0.41225123 0.39983473 0.38532838 0.36872257 0.3500062\n",
      "  0.32916661 0.30618955 0.28105914 0.25375778 0.22426611 0.19256296\n",
      "  0.15862528 0.12242811 0.08394449 0.04314546]]\n",
      "\n"
     ]
    },
    {
     "data": {
      "image/png": "[encoded data removed]",
      "text/plain": [
       "<Figure size 640x480 with 1 Axes>"
      ]
     },
     "metadata": {},
     "output_type": "display_data"
    },
    {
     "name": "stdout",
     "output_type": "stream",
     "text": [
      "When our initial guess is a randomly generated vector: \n",
      "y0=[[0.37454012 0.95071431 0.73199394 0.59865848 0.15601864 0.15599452\n",
      "  0.05808361 0.86617615 0.60111501 0.70807258 0.02058449 0.96990985\n",
      "  0.83244264 0.21233911 0.18182497 0.18340451 0.30424224 0.52475643\n",
      "  0.43194502 0.29122914 0.61185289 0.13949386 0.29214465 0.36636184\n",
      "  0.45606998 0.78517596 0.19967378 0.51423444 0.59241457 0.04645041\n",
      "  0.60754485 0.17052412 0.06505159 0.94888554 0.96563203 0.80839735\n",
      "  0.30461377 0.09767211 0.68423303 0.44015249]]\n",
      "\n",
      "NewtonSolve returns a solution of: \n",
      "y=[[-1.34677547e+23 -2.69354330e+23 -4.04033464e+23 -5.38698531e+23\n",
      "  -6.73497528e+23 -8.07156047e+23 -9.41221037e+23 -1.06604032e+24\n",
      "  -1.19260915e+24 -1.31483769e+24 -1.44373685e+24 -1.49506369e+24\n",
      "  -1.54529682e+24 -1.59753788e+24 -1.61717207e+24 -1.63324544e+24\n",
      "  -1.64049430e+24 -1.64055166e+24 -1.64891981e+24 -1.65684996e+24\n",
      "  -1.63748360e+24 -1.63810335e+24 -1.59647730e+24 -1.55675681e+24\n",
      "  -1.51441385e+24 -1.46215406e+24 -1.41826221e+24 -1.33637741e+24\n",
      "  -1.25800156e+24 -1.18746483e+24 -1.08437011e+24 -9.89296514e+23\n",
      "  -8.89324579e+23 -7.78288532e+23 -6.67322838e+23 -5.56259983e+23\n",
      "  -4.45285926e+23 -3.34120620e+23 -2.22736703e+23 -1.11368128e+23]]\n"
     ]
    },
    {
     "data": {
      "image/png": "[encoded data removed]",
      "text/plain": [
       "<Figure size 640x480 with 1 Axes>"
      ]
     },
     "metadata": {},
     "output_type": "display_data"
    },
    {
     "name": "stdout",
     "output_type": "stream",
     "text": [
      "After some more iterations (K=10) the solution for the randomly generated vector becomes: \n",
      "y=[[nan nan nan nan nan nan nan nan nan nan nan nan nan nan nan nan nan nan\n",
      "  nan nan nan nan nan nan nan nan nan nan nan nan nan nan nan nan nan nan\n",
      "  nan nan nan nan]]\n"
     ]
    },
    {
     "name": "stderr",
     "output_type": "stream",
     "text": [
      "/opt/homebrew/lib/python3.10/site-packages/scipy/sparse/linalg/_dsolve/linsolve.py:230: MatrixRankWarning: Matrix is exactly singular\n",
      "  warn(\"Matrix is exactly singular\", MatrixRankWarning)\n"
     ]
    }
   ],
   "source": [
    "# Subquestion 2, code part\n",
    "n = 40\n",
    "K = 5\n",
    "\n",
    "# initial guess that converges;\n",
    "conv_y0 = np.ones([n,1])\n",
    "# and one that doesn't\n",
    "np.random.seed(42)\n",
    "noConv_y0 = np.random.rand(n,1)\n",
    "\n",
    "results = []\n",
    "for y0 in [conv_y0, noConv_y0]:\n",
    "    results.append(NewtonSolve(y0, K))\n",
    "\n",
    "print(\"For an initial guess of a {}x1 vector of ones: \\ny0={}\\n\".format(n,conv_y0.reshape(1,n)))\n",
    "print(\"Our NewtonSolve implementation comes up with a solution close to the previously seen solution when our initial guess is a vector of all zeros and we run our solver for 50 iterations: \\ny={}\\n\".format(results[0].reshape(1,n)))\n",
    "plt.plot(np.linspace(0,1,n), results[0], label=\"y0=[1_1 ... 1_n] (K=5)\")\n",
    "plt.plot(np.linspace(0,1,n), y, label=\"y0=[0_1 ... 0_n] (K=50)\")\n",
    "plt.title(\"NewtonSolve Estimation of y\")\n",
    "plt.legend()\n",
    "plt.show()\n",
    "print(\"When our initial guess is a randomly generated vector: \\ny0={}\\n\".format(noConv_y0.reshape(1,n)))\n",
    "print(\"NewtonSolve returns a solution of: \\ny={}\".format(results[1].reshape(1,n)))\n",
    "plt.plot(np.linspace(0,1,n), results[1], label=\"y0=[rand_1 ... rand_n] (K=5)\", c='red')\n",
    "plt.title(\"NewtonSolve Estimation of y\")\n",
    "plt.legend()\n",
    "plt.show()\n",
    "print(\"After some more iterations (K={}) the solution for the randomly generated vector becomes: \\ny={}\".format(10, NewtonSolve(noConv_y0, 10).reshape(1,n)))"
   ]
  },
  {
   "cell_type": "markdown",
   "id": "441c242a-ec62-4761-b3d5-1aaf00ed3ab2",
   "metadata": {},
   "source": [
    "**Answer**\n",
    "\n",
    "When our initial guess is a $n \\times 1$ vector of all all ones or zeros, our `NewtonSolve` implementation converges to the same solution when the amount of iterations of the algortihm is the same. The solution it converges to can be seen in in the two cells above. \n",
    "\n",
    "In the cell above we can also see that when our initial guess is a $n \\times 1$ vector containing randomly generated numbers (between 0 and 1) rather stange behavior occurs. Here, we can see that if we run our `NewtonSolve` for $K=5$ iterations the solution converges to an exteremely large negative value. When we run the solver for double the amount of iterations, namely $K=10$, our solution becomes a vector of all \"nan\" values. This is probably due to the Jaccobian becoming singular when the solution becomes so (negatively) large that it can't be represented by the floating point system. And when the Jacobian becomes singular, we cannot solve $J_F(y)=-F(y)$ anymore. "
   ]
  }
 ],
 "metadata": {
  "kernelspec": {
   "display_name": "Python 3.10.6 64-bit",
   "language": "python",
   "name": "python3"
  },
  "language_info": {
   "codemirror_mode": {
    "name": "ipython",
    "version": 3
   },
   "file_extension": ".py",
   "mimetype": "text/x-python",
   "name": "python",
   "nbconvert_exporter": "python",
   "pygments_lexer": "ipython3",
   "version": "3.10.6"
  },
  "vscode": {
   "interpreter": {
    "hash": "b0fa6594d8f4cbf19f97940f81e996739fb7646882a419484c72d19e05852a7e"
   }
  }
 },
 "nbformat": 4,
 "nbformat_minor": 5
}
