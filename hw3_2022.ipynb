{
 "cells": [
  {
   "cell_type": "markdown",
   "id": "8adb98fb-0d56-485e-986c-8a04c70b6020",
   "metadata": {
    "nbgrader": {
     "grade": false,
     "grade_id": "cell-06d3e5bf55c941ae",
     "locked": true,
     "schema_version": 3,
     "solution": false,
     "task": false
    },
    "tags": []
   },
   "source": [
    "# Homework set 3"
   ]
  },
  {
   "cell_type": "markdown",
   "id": "f4d542f2-53a5-4571-996a-63307f888ed9",
   "metadata": {
    "nbgrader": {
     "grade": false,
     "grade_id": "cell-736ff6bc3e0d0696",
     "locked": true,
     "schema_version": 3,
     "solution": false,
     "task": false
    }
   },
   "source": [
    "Please **submit this Jupyter notebook through Canvas** no later than **Mon Nov. 21, 9:00**. **Submit the notebook file with your answers (as .ipynb file) and a pdf printout. The pdf version can be used by the teachers to provide feedback. A pdf version can be made using the save and export option in the Jupyter Lab file menu.**\n",
    "\n",
    "Homework is in **groups of two**, and you are expected to hand in original work. Work that is copied from another group will not be accepted."
   ]
  },
  {
   "cell_type": "markdown",
   "id": "5481631d-7c59-4b2f-be95-4a73568ad33c",
   "metadata": {
    "nbgrader": {
     "grade": false,
     "grade_id": "cell-b13bc5ed16bce8e0",
     "locked": true,
     "schema_version": 3,
     "solution": false,
     "task": false
    }
   },
   "source": [
    "# Exercise 0\n",
    "Write down the names + student ID of the people in your group."
   ]
  },
  {
   "cell_type": "markdown",
   "id": "423fae09-7e59-46ff-b4f6-0a4395438b2d",
   "metadata": {
    "nbgrader": {
     "grade": true,
     "grade_id": "cell-fd464f55ba436b1c",
     "locked": false,
     "points": 0,
     "schema_version": 3,
     "solution": true,
     "task": false
    }
   },
   "source": [
    "Christos Perchanidis    (14601206)\n",
    "\n",
    "River Vaudrin           (11877154)"
   ]
  },
  {
   "cell_type": "markdown",
   "id": "de187452-d370-4a1c-bfc9-2bad40f45833",
   "metadata": {
    "nbgrader": {
     "grade": false,
     "grade_id": "cell-b5a7855ecca9f6be",
     "locked": true,
     "schema_version": 3,
     "solution": false,
     "task": false
    }
   },
   "source": [
    "Run the following cell to import NumPy and Pyplot."
   ]
  },
  {
   "cell_type": "code",
   "execution_count": 1,
   "id": "1599c119-77a5-42e3-936a-6f6515e88e35",
   "metadata": {},
   "outputs": [],
   "source": [
    "import numpy as np\n",
    "from scipy.linalg import hilbert\n",
    "import matplotlib.pyplot as plt"
   ]
  },
  {
   "cell_type": "markdown",
   "id": "33de5356-90ed-4fea-b7e5-396c316d1d4c",
   "metadata": {},
   "source": [
    "# Exercise 1"
   ]
  },
  {
   "cell_type": "markdown",
   "id": "73f6eb1d-666c-4aa7-8969-f30895ec0c76",
   "metadata": {},
   "source": [
    "In this exercise you will study the accuracy of several methods for computing the QR decomposition. You are asked to implement these methods yourself. (However, when testing your implementation you may compare with an external implementation.)\n"
   ]
  },
  {
   "cell_type": "markdown",
   "id": "0880f0a3-e3ed-4dbd-bdc5-40ccfb753978",
   "metadata": {},
   "source": [
    "## (a) \n",
    "Implement the classical and modified Gram-Schmidt procedures for computing the QR decomposition.\n",
    "\n",
    "Include a short documentation using triple quotes: describe at least the input and the output, and whether the code modifies the input matrix.\n"
   ]
  },
  {
   "cell_type": "code",
   "execution_count": 2,
   "id": "26f5a07a-b579-46bd-af9d-3db3146a782e",
   "metadata": {},
   "outputs": [],
   "source": [
    "def classical_gram_schmidt(A):\n",
    "    '''\n",
    "    Compute the QR factorization of a matrix.\n",
    "\n",
    "    Factor the matrix A as QR, where Q is orthonormal and R is upper-triangular.\n",
    "\n",
    "    Parameters\n",
    "    A : array_like, shape (m, n)\n",
    "        Matrix to be factored.\n",
    "\n",
    "    Returns\n",
    "    Q : ndarray of float, matrix with orthonormal columns. \n",
    "    R : ndarray of float, upper-triangular matrix.\n",
    "\n",
    "    Notes\n",
    "    DESCRIBE THE METHOD\n",
    "    '''\n",
    "\n",
    "    m, n = A.shape\n",
    "    Q = np.zeros((m, n))\n",
    "    R = np.zeros((n, n))\n",
    "    for k in range(n):\n",
    "        Q[:, k] = A[:, k]\n",
    "        for j in range(k-1):\n",
    "            R[j, k] = np.dot(Q[:, j], A[:, k])\n",
    "            Q[:, k] = Q[:, k] - R[j, k]*Q[:, j]\n",
    "        R[k, k] = np.linalg.norm(Q[:, k])\n",
    "        if R[k,k]==0: return\n",
    "        Q[:, k] = Q[:, k]/R[k, k]\n",
    "    return Q, R \n",
    "\n",
    "\n",
    "def modified_gram_schmidt(A):\n",
    "    '''\n",
    "    Compute the QR factorization of a matrix.\n",
    "\n",
    "    Factor the matrix A as QR, where Q is orthonormal and R is upper-triangular.\n",
    "\n",
    "    Parameters\n",
    "    A : array_like, shape (m, n)\n",
    "        Matrix to be factored.\n",
    "\n",
    "    Returns\n",
    "    Q : ndarray of float, matrix with orthonormal columns. \n",
    "    R : ndarray of float, upper-triangular matrix.\n",
    "\n",
    "    Notes\n",
    "    DESCRIBE THE METHOD\n",
    "    '''\n",
    "    \n",
    "    m, n = A.shape\n",
    "    Q = np.zeros((m, n))\n",
    "    R = np.zeros((n, n))\n",
    "    for k in range(n):\n",
    "        R[k, k] = np.linalg.norm(A[:, k])\n",
    "        if R[k,k]==0: return        # Stop if linearly dependent\n",
    "        Q[:, k] = A[:, k]/R[k, k]   # Normalize current column\n",
    "        for j in range(k+1, n):\n",
    "            #R[k, j] = np.transpose(Q[:, k]) @ A[:, j]\n",
    "            R[k, j] = np.dot(Q[:, k], A[:, j])\n",
    "            A[:, j] -= R[k, j]*Q[:, k]\n",
    "    return Q, R \n"
   ]
  },
  {
   "cell_type": "markdown",
   "id": "a337d211-e9b2-4157-9d85-a3635efb3431",
   "metadata": {},
   "source": [
    "## (b) (a+b 3.5 pts)\n",
    "Let $H$ be a Hilbert matrix of size $n$ (see Computer Problem 2.6). Study the quality of the QR decompositions obtained using the two methods of part (a), specifically the loss of orthogonality. In order to do so, plot the quantity $\\| I - Q^T Q \\|$ as a function of $n$ on a log scale. Vary $n$ from $2$ to $12$.\n",
    "\n"
   ]
  },
  {
   "cell_type": "code",
   "execution_count": 13,
   "id": "cff553c1-4044-4683-9555-f8a0f741f66e",
   "metadata": {},
   "outputs": [
    {
     "data": {
      "image/png": "[encoded data removed]",
      "text/plain": [
       "<Figure size 640x480 with 1 Axes>"
      ]
     },
     "metadata": {},
     "output_type": "display_data"
    }
   ],
   "source": [
    "error_numpy = []\n",
    "error_gs_clas = []\n",
    "error_gs_mod = []\n",
    "n_values = np.arange(2, 12)\n",
    "\n",
    "for n in n_values:\n",
    "    Q1, R1 = np.linalg.qr(hilbert(n))\n",
    "    Q2, R2 = classical_gram_schmidt(hilbert(n))\n",
    "    Q3, R3 = modified_gram_schmidt(hilbert(n))\n",
    "\n",
    "    error_numpy.append(np.linalg.norm(np.identity(n) - Q1.transpose() @ Q1))\n",
    "    error_gs_clas.append(np.linalg.norm(np.identity(n) - Q2.transpose() @ Q2))\n",
    "    error_gs_mod.append(np.linalg.norm(np.identity(n) - Q3.transpose() @ Q3))\n",
    "\n",
    "\n",
    "plt.plot(n_values, error_numpy, label = \"Error with the QR decomposition with numpy method\")\n",
    "plt.plot(n_values, error_gs_clas, label = \"Error with the QR decomposition with Classical Gram–Schmidt process\")\n",
    "plt.plot(n_values, error_gs_mod, label = \"Error with the QR decomposition with modified Gram–Schmidt process\")\n",
    "\n",
    "plt.title(\"Loss of orthogonality\")\n",
    "plt.xlabel('Size of Hilbert matrix')\n",
    "plt.ylabel('Loss')\n",
    "plt.yscale(\"log\")\n",
    "plt.legend()\n",
    "plt.show()"
   ]
  },
  {
   "cell_type": "markdown",
   "id": "f2d6cf46-3796-405b-ab46-bc9575a5f648",
   "metadata": {},
   "source": [
    "## (c) (1.5 pts)\n",
    "Try applying the classical procedure twice. Plot again the loss of orthogonality when computing the QR decomposition of the Hilbert matrix of size $n$ as in (b).\n"
   ]
  },
  {
   "cell_type": "code",
   "execution_count": 4,
   "id": "b4574283-5b0e-4f54-a0e4-727a9246db7e",
   "metadata": {},
   "outputs": [],
   "source": [
    "# YOUR CODE HERE"
   ]
  },
  {
   "cell_type": "markdown",
   "id": "d61d724c-3216-4742-9c8c-f411ad437193",
   "metadata": {},
   "source": [
    "## (d) (2 pts)\n",
    "Implement the Householder method for computing the QR decomposition. Remember to include a short documentation."
   ]
  },
  {
   "cell_type": "code",
   "execution_count": 5,
   "id": "a5fa9b4f-4a69-4dcf-bee4-23e67746ed06",
   "metadata": {},
   "outputs": [
    {
     "name": "stdout",
     "output_type": "stream",
     "text": [
      "Hilbert Matrix:\n",
      " [[1.         0.5        0.33333333]\n",
      " [0.5        0.33333333 0.25      ]\n",
      " [0.33333333 0.25       0.2       ]] \n",
      "-------------\n",
      "NumPy QR-decmoposition:\n",
      "Q:\n",
      "[[-0.85714286  0.50160492  0.11704115]\n",
      " [-0.42857143 -0.56848557 -0.70224688]\n",
      " [-0.28571429 -0.65208639  0.70224688]]\n",
      "R:\n",
      "[[-1.16666667 -0.64285714 -0.45      ]\n",
      " [ 0.         -0.10171433 -0.10533703]\n",
      " [ 0.          0.          0.00390137]]\n",
      "-------------\n",
      "Our Householder QR-decomposition:\n",
      "Q:\n",
      "[[-0.85714286  0.50160492  0.11704115]\n",
      " [-0.42857143 -0.56848557 -0.70224688]\n",
      " [-0.28571429 -0.65208639  0.70224688]]\n",
      "R:\n",
      "[[-1.16666667e+00 -6.42857143e-01 -4.50000000e-01]\n",
      " [-4.02438725e-17 -1.01714330e-01 -1.05337032e-01]\n",
      " [-1.46600979e-17  1.08963709e-17  3.90137157e-03]]\n",
      "-------------\n"
     ]
    }
   ],
   "source": [
    "def householder_qr(A, p=False):\n",
    "    '''\n",
    "    Compute the QR factorization of a matrix.\n",
    "\n",
    "    Factor the matrix A as QR, where Q is orthonormal and R is upper-triangular.\n",
    "\n",
    "    Parameters\n",
    "    A : array_like, shape (m, n)\n",
    "        Matrix to be factored.\n",
    "\n",
    "    Returns\n",
    "    Q : ndarray of float, matrix with orthonormal columns. \n",
    "    R : ndarray of float, upper-triangular matrix.\n",
    "\n",
    "    Notes\n",
    "    DESCRIBE THE METHOD\n",
    "    '''\n",
    "\n",
    "    # dimension of A\n",
    "    n = len(A)\n",
    "\n",
    "    # initialize result matrixes Q and R\n",
    "    Q = np.zeros([n,n])\n",
    "    R = A\n",
    "    \n",
    "    # initialize identity matrix of same size of A\n",
    "    I = np.identity(n)\n",
    "\n",
    "    # loop over columns\n",
    "    for k in range(n-1):\n",
    "        # select column of R, if not first itteration add zeros above current diagonal\n",
    "        a = np.array([0 for i in range(k)] + [row[k] for row in R[k:]])[np.newaxis]\n",
    "\n",
    "        # select corresponding basis vector\n",
    "        e = np.array([row[k] for row in I])[np.newaxis]\n",
    "\n",
    "        # find current householder vector\n",
    "        u = np.sign(a[0][k]) * np.linalg.norm(a) * e\n",
    "        v = a + u\n",
    "        \n",
    "        # calculate householder transformation\n",
    "        beta = 2 / np.inner(v, v) * (v.T @ v)\n",
    "        H = I - beta\n",
    "\n",
    "        # update R\n",
    "        R = H @ R\n",
    "\n",
    "        # update Q\n",
    "        if np.all(Q==0):\n",
    "            Q = H\n",
    "        else:\n",
    "            Q = Q @ H\n",
    "\n",
    "        # if true, print intermediate steps\n",
    "        if p:\n",
    "            print(\"ITTERATION: {}\".format(k))\n",
    "            print(\"a:\", a)\n",
    "            print(\"e:\", e)\n",
    "            print(\"u:\", u)\n",
    "            print(\"v:\", v)\n",
    "            print(\"beta:\", beta)\n",
    "            print(\"I:\\n\", I)\n",
    "            print(\"H:\\n\", H)\n",
    "            print(\"R:\\n\", R)\n",
    "            print(\"Q:\\n\", Q)\n",
    "\n",
    "    return Q, R\n",
    "\n",
    "A = hilbert(3)\n",
    "print(\"Hilbert Matrix:\\n\", A,\"\\n-------------\")\n",
    "\n",
    "q, r = np.linalg.qr(A)\n",
    "print(\"NumPy QR-decmoposition:\\nQ:\\n{}\\nR:\\n{}\\n-------------\".format(q,r))\n",
    "\n",
    "Q, R = householder_qr(A)\n",
    "print(\"Our Householder QR-decomposition:\\nQ:\\n{}\\nR:\\n{}\\n-------------\".format(Q,R))\n"
   ]
  },
  {
   "cell_type": "markdown",
   "id": "35df642d-7348-407a-9755-b8ac03045541",
   "metadata": {},
   "source": [
    "## (e) (2 pts)\n",
    "Perform the analysis of (b) for the Householder method. Discuss the differences between all the methods you have tested so far. Look online and/or in books for information about the accuracy of the different methods and include this in your explanations (with reference).\n"
   ]
  },
  {
   "cell_type": "code",
   "execution_count": 11,
   "id": "eb790bfb-2f80-4630-aeb6-30ff0b604cc7",
   "metadata": {},
   "outputs": [
    {
     "data": {
      "image/png": "[encoded data removed]",
      "text/plain": [
       "<Figure size 640x480 with 1 Axes>"
      ]
     },
     "metadata": {},
     "output_type": "display_data"
    }
   ],
   "source": [
    "losses = []\n",
    "N = [n for n in range(2,25)]\n",
    "for n in N:\n",
    "    H = hilbert(n)\n",
    "    Q, R = householder_qr(H)\n",
    "    I = np.identity(n)\n",
    "    loss=(np.linalg.norm(np.identity(n) - Q.transpose() @ Q))\n",
    "    losses.append(loss)\n",
    "\n",
    "plt.plot(N, losses, color='red', label=r\"Householder-QR\")\n",
    "plt.title(\"Loss of orthogonality for Hilbert\")\n",
    "plt.xlabel('Size of Hilbert matrix')\n",
    "plt.ylabel('Loss')\n",
    "plt.yscale(\"log\")\n",
    "plt.legend()\n",
    "plt.show()"
   ]
  },
  {
   "cell_type": "code",
   "execution_count": null,
   "id": "c22c72ea",
   "metadata": {},
   "outputs": [],
   "source": []
  },
  {
   "cell_type": "markdown",
   "id": "b59a127c-1f5f-4122-927c-20b0e90c5cb4",
   "metadata": {},
   "source": []
  }
 ],
 "metadata": {
  "kernelspec": {
   "display_name": "Python 3.9.13 ('Engine-397')",
   "language": "python",
   "name": "python3"
  },
  "language_info": {
   "codemirror_mode": {
    "name": "ipython",
    "version": 3
   },
   "file_extension": ".py",
   "mimetype": "text/x-python",
   "name": "python",
   "nbconvert_exporter": "python",
   "pygments_lexer": "ipython3",
   "version": "3.9.13"
  },
  "vscode": {
   "interpreter": {
    "hash": "73fad955648c4794aae42ffc70d8a037720c1a0f9c2aee2a3c4d30360a3c118b"
   }
  }
 },
 "nbformat": 4,
 "nbformat_minor": 5
}
